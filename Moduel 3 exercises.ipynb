{
 "cells": [
  {
   "cell_type": "markdown",
   "metadata": {},
   "source": [
    "Exercises - Module 3\n",
    "Declare your age as integer variable\n",
    "Declare your height as a float variable\n",
    "Declare a variable that store a complex number\n",
    "Write a script that prompts the user to enter base and height of the triangle and calculate an area of this triangle (area = 0.5 x b x h).\n",
    "    Enter base: 20\n",
    "    Enter height: 10\n",
    "    The area of the triangle is 100\n",
    "Write a script that prompts the user to enter side a, side b, and side c of the triangle. Calculate the perimeter of the triangle (perimeter = a + b + c).\n",
    "Enter side a: 5\n",
    "Enter side b: 4\n",
    "Enter side c: 3\n",
    "The perimeter of the triangle is 12\n",
    "Get length and width of a rectangle using prompt. Calculate its area (area = length x width) and perimeter (perimeter = 2 x (length + width))\n",
    "Get radius of a circle using prompt. Calculate the area (area = pi x r x r) and circumference (c = 2 x pi x r) where pi = 3.14.\n",
    "Calculate the slope, x-intercept and y-intercept of y = 2x -2\n",
    "Slope is (m = y2-y1/x2-x1). Find the slope and Euclidean distance between point (2, 2) and point (6,10)\n",
    "Compare the slopes in tasks 8 and 9.\n",
    "Calculate the value of y (y = x^2 + 6x + 9). Try to use different x values and figure out at what x value y is going to be 0.\n",
    "Find the length of 'python' and 'dragon' and make a falsy comparison statement.\n",
    "Use and operator to check if 'on' is found in both 'python' and 'dragon'\n",
    "I hope this course is not full of jargon. Use in operator to check if jargon is in the sentence.\n",
    "There is no 'on' in both dragon and python\n",
    "Find the length of the text python and convert the value to float and convert it to string\n",
    "Even numbers are divisible by 2 and the remainder is zero. How do you check if a number is even or not using python?\n",
    "Check if the floor division of 7 by 3 is equal to the int converted value of 2.7.\n",
    "Check if type of '10' is equal to type of 10\n",
    "Check if int('9.8') is equal to 10\n",
    "Writ a script that prompts the user to enter hours and rate per hour. Calculate pay of the person?\n",
    "Enter hours: 40\n",
    "Enter rate per hour: 28\n",
    "Your weekly earning is 1120\n",
    "Write a script that prompts the user to enter number of years. Calculate the number of seconds a person can live. Assume a person can live hundred years\n",
    "Enter number of years you have lived: 100\n",
    "You have lived for 3153600000 seconds.\n",
    "Write a Python script that displays the following table\n",
    "1 1 1 1 1\n",
    "2 1 2 4 8\n",
    "3 1 3 9 27\n",
    "4 1 4 16 64\n",
    "5 1 5 25 125"
   ]
  },
  {
   "cell_type": "code",
   "execution_count": 6,
   "metadata": {},
   "outputs": [],
   "source": [
    "# Declare your age as integer variable\n",
    "age = 30\n",
    "\n",
    "# Declare your height as a float variable\n",
    "height = 5.9\n",
    "\n",
    "# Declare a variable that stores a complex number\n",
    "complex_number = 3 + 4j\n",
    "\n"
   ]
  },
  {
   "cell_type": "code",
   "execution_count": 7,
   "metadata": {},
   "outputs": [
    {
     "name": "stdout",
     "output_type": "stream",
     "text": [
      "The area of the triangle is: 100.0\n"
     ]
    }
   ],
   "source": [
    "# Prompt the user to enter the base and height of the triangle\n",
    "base = float(input(\"Enter the base of the triangle: \"))\n",
    "height_triangle = float(input(\"Enter the height of the triangle: \"))\n",
    "\n",
    "# Calculate the area of the triangle\n",
    "area = 0.5 * base * height_triangle\n",
    "\n",
    "# Print the area of the triangle\n",
    "print(f\"The area of the triangle is: {area}\")"
   ]
  },
  {
   "cell_type": "code",
   "execution_count": 8,
   "metadata": {},
   "outputs": [
    {
     "name": "stdout",
     "output_type": "stream",
     "text": [
      "The perimeter of the triangle is: 12.0\n"
     ]
    }
   ],
   "source": [
    "# Prompt the user to enter the sides of the triangle\n",
    "side_a = float(input(\"Enter side a of the triangle: \"))\n",
    "side_b = float(input(\"Enter side b of the triangle: \"))\n",
    "side_c = float(input(\"Enter side c of the triangle: \"))\n",
    "\n",
    "# Calculate the perimeter of the triangle\n",
    "perimeter = side_a + side_b + side_c\n",
    "\n",
    "# Print the perimeter of the triangle\n",
    "print(f\"The perimeter of the triangle is: {perimeter}\")"
   ]
  },
  {
   "cell_type": "code",
   "execution_count": 9,
   "metadata": {},
   "outputs": [
    {
     "name": "stdout",
     "output_type": "stream",
     "text": [
      "The area of the rectangle is: 200.0\n",
      "The perimeter of the rectangle is: 60.0\n",
      "The area of the circle is: 78.5\n",
      "The circumference of the circle is: 31.400000000000002\n",
      "The slope of the line y = 2x - 2 is: 2\n",
      "The x-intercept of the line y = 2x - 2 is: 1.0\n",
      "The y-intercept of the line y = 2x - 2 is: -2\n"
     ]
    }
   ],
   "source": [
    "# Prompt the user to enter the length and width of the rectangle\n",
    "length = float(input(\"Enter the length of the rectangle: \"))\n",
    "width = float(input(\"Enter the width of the rectangle: \"))\n",
    "\n",
    "# Calculate the area and perimeter of the rectangle\n",
    "rectangle_area = length * width\n",
    "rectangle_perimeter = 2 * (length + width)\n",
    "\n",
    "# Print the area and perimeter of the rectangle\n",
    "print(f\"The area of the rectangle is: {rectangle_area}\")\n",
    "print(f\"The perimeter of the rectangle is: {rectangle_perimeter}\")\n",
    "\n",
    "# Prompt the user to enter the radius of the circle\n",
    "radius = float(input(\"Enter the radius of the circle: \"))\n",
    "\n",
    "# Calculate the area and circumference of the circle\n",
    "pi = 3.14\n",
    "circle_area = pi * radius * radius\n",
    "circle_circumference = 2 * pi * radius\n",
    "\n",
    "# Print the area and circumference of the circle\n",
    "print(f\"The area of the circle is: {circle_area}\")\n",
    "print(f\"The circumference of the circle is: {circle_circumference}\")\n",
    "\n",
    "# Calculate the slope, x-intercept, and y-intercept of the line y = 2x - 2\n",
    "slope = 2\n",
    "x_intercept = -(-2) / 2  # x-intercept is when y = 0\n",
    "y_intercept = -2  # y-intercept is when x = 0\n",
    "\n",
    "# Print the slope, x-intercept, and y-intercept\n",
    "print(f\"The slope of the line y = 2x - 2 is: {slope}\")\n",
    "print(f\"The x-intercept of the line y = 2x - 2 is: {x_intercept}\")\n",
    "print(f\"The y-intercept of the line y = 2x - 2 is: {y_intercept}\")"
   ]
  },
  {
   "cell_type": "code",
   "execution_count": 10,
   "metadata": {},
   "outputs": [
    {
     "name": "stdout",
     "output_type": "stream",
     "text": [
      "The slope between points (2, 2) and (6, 10) is: 2.0\n",
      "The Euclidean distance between points (2, 2) and (6, 10) is: 8.94427190999916\n",
      "Comparison of slopes: 2 (task 8) and 2.0 (task 9)\n",
      "For x = -3, y = 0\n",
      "For x = 0, y = 9\n",
      "For x = 3, y = 36\n",
      "The value of x where y is 0: -3\n",
      "Length of 'python': 6\n",
      "Length of 'dragon': 6\n",
      "Falsy comparison statement: 6 == 6 is True\n",
      "'on' in both 'python' and 'dragon': True\n",
      "'jargon' in the sentence: True\n",
      "There is no 'on' in both 'dragon' and 'python': False\n"
     ]
    }
   ],
   "source": [
    "import math\n",
    "\n",
    "# Points\n",
    "x1, y1 = 2, 2\n",
    "x2, y2 = 6, 10\n",
    "\n",
    "# Calculate the slope\n",
    "slope_2 = (y2 - y1) / (x2 - x1)\n",
    "print(f\"The slope between points (2, 2) and (6, 10) is: {slope_2}\")\n",
    "\n",
    "# Calculate the Euclidean distance\n",
    "distance = math.sqrt((x2 - x1)**2 + (y2 - y1)**2)\n",
    "print(f\"The Euclidean distance between points (2, 2) and (6, 10) is: {distance}\")\n",
    "\n",
    "# Compare slopes\n",
    "print(f\"Comparison of slopes: {slope} (task 8) and {slope_2} (task 9)\")\n",
    "\n",
    "# Calculate y for different x values\n",
    "def calculate_y(x):\n",
    "    return x**2 + 6*x + 9\n",
    "\n",
    "x_values = [-3, 0, 3]\n",
    "for x in x_values:\n",
    "    y = calculate_y(x)\n",
    "    print(f\"For x = {x}, y = {y}\")\n",
    "\n",
    "# Find x value where y is 0\n",
    "x_zero = -3\n",
    "print(f\"The value of x where y is 0: {x_zero}\")\n",
    "\n",
    "# Length of 'python' and 'dragon'\n",
    "len_python = len('python')\n",
    "len_dragon = len('dragon')\n",
    "print(f\"Length of 'python': {len_python}\")\n",
    "print(f\"Length of 'dragon': {len_dragon}\")\n",
    "\n",
    "# Falsy comparison statement\n",
    "print(f\"Falsy comparison statement: {len_python} == {len_dragon} is {len_python == len_dragon}\")\n",
    "\n",
    "# Check if 'on' is found in both 'python' and 'dragon'\n",
    "on_in_python = 'on' in 'python'\n",
    "on_in_dragon = 'on' in 'dragon'\n",
    "print(f\"'on' in both 'python' and 'dragon': {on_in_python and on_in_dragon}\")\n",
    "\n",
    "# Check if 'jargon' is in the sentence\n",
    "sentence = \"I hope this course is not full of jargon.\"\n",
    "jargon_in_sentence = 'jargon' in sentence\n",
    "print(f\"'jargon' in the sentence: {jargon_in_sentence}\")\n",
    "\n",
    "# Check if there is no 'on' in both 'dragon' and 'python'\n",
    "no_on_in_both = not ('on' in 'dragon' and 'on' in 'python')\n",
    "print(f\"There is no 'on' in both 'dragon' and 'python': {no_on_in_both}\")"
   ]
  },
  {
   "cell_type": "code",
   "execution_count": 11,
   "metadata": {},
   "outputs": [
    {
     "name": "stdout",
     "output_type": "stream",
     "text": [
      "Length of 'python' as float and then string: 6.0\n",
      "Is 4 even? True\n",
      "Is the floor division of 7 by 3 equal to int(2.7)? True\n",
      "Is type of '10' equal to type of 10? False\n",
      "Is int('9.8') equal to 10? False\n"
     ]
    }
   ],
   "source": [
    "# Find the length of the text 'python' and convert the value to float and then to string\n",
    "length_python = len('python')\n",
    "length_python_float = float(length_python)\n",
    "length_python_str = str(length_python_float)\n",
    "print(f\"Length of 'python' as float and then string: {length_python_str}\")\n",
    "\n",
    "# Check if a number is even or not\n",
    "def is_even(number):\n",
    "    return number % 2 == 0\n",
    "\n",
    "number_to_check = 4\n",
    "print(f\"Is {number_to_check} even? {is_even(number_to_check)}\")\n",
    "\n",
    "# Check if the floor division of 7 by 3 is equal to the int converted value of 2.7\n",
    "floor_division_check = (7 // 3) == int(2.7)\n",
    "print(f\"Is the floor division of 7 by 3 equal to int(2.7)? {floor_division_check}\")\n",
    "\n",
    "# Check if type of '10' is equal to type of 10\n",
    "type_check = type('10') == type(10)\n",
    "print(f\"Is type of '10' equal to type of 10? {type_check}\")\n",
    "\n",
    "# Check if int('9.8') is equal to 10\n",
    "try:\n",
    "    int_check = int('9.8') == 10\n",
    "except ValueError:\n",
    "    int_check = False\n",
    "print(f\"Is int('9.8') equal to 10? {int_check}\")"
   ]
  },
  {
   "cell_type": "code",
   "execution_count": 12,
   "metadata": {},
   "outputs": [
    {
     "name": "stdout",
     "output_type": "stream",
     "text": [
      "The pay of the person is: 1120.0\n"
     ]
    }
   ],
   "source": [
    "# Prompt the user to enter hours and rate per hour\n",
    "hours = float(input(\"Enter the number of hours worked: \"))\n",
    "rate_per_hour = float(input(\"Enter the rate per hour: \"))\n",
    "\n",
    "# Calculate the pay\n",
    "pay = hours * rate_per_hour\n",
    "\n",
    "# Print the pay\n",
    "print(f\"The pay of the person is: {pay}\")"
   ]
  },
  {
   "cell_type": "code",
   "execution_count": 13,
   "metadata": {},
   "outputs": [
    {
     "name": "stdout",
     "output_type": "stream",
     "text": [
      "A person can live up to 3153600000 seconds if they live for 100 years.\n",
      "The number of seconds for 100.0 years is: 3153600000.0\n"
     ]
    }
   ],
   "source": [
    "# Prompt the user to enter the number of years\n",
    "years = float(input(\"Enter the number of years: \"))\n",
    "\n",
    "# Calculate the number of seconds in a year\n",
    "seconds_per_year = 365 * 24 * 60 * 60\n",
    "\n",
    "# Calculate the number of seconds a person can live\n",
    "max_years = 100\n",
    "max_seconds = max_years * seconds_per_year\n",
    "\n",
    "# Calculate the number of seconds for the entered years\n",
    "entered_seconds = years * seconds_per_year\n",
    "\n",
    "# Print the results\n",
    "print(f\"A person can live up to {max_seconds} seconds if they live for {max_years} years.\")\n",
    "print(f\"The number of seconds for {years} years is: {entered_seconds}\")"
   ]
  },
  {
   "cell_type": "code",
   "execution_count": 14,
   "metadata": {},
   "outputs": [
    {
     "name": "stdout",
     "output_type": "stream",
     "text": [
      "a b a^2 a^3 a^4\n",
      "1 1 1 1 1 1\n",
      "2 1 2 4 8 16\n",
      "3 1 3 9 27 81\n",
      "4 1 4 16 64 256\n",
      "5 1 5 25 125 625\n"
     ]
    }
   ],
   "source": [
    "# Print the table header\n",
    "print(\"a b a^2 a^3 a^4\")\n",
    "\n",
    "# Print the table rows\n",
    "for a in range(1, 6):\n",
    "    b = 1\n",
    "    print(f\"{a} {b} {a**1} {a**2} {a**3} {a**4}\")"
   ]
  }
 ],
 "metadata": {
  "kernelspec": {
   "display_name": "Python 3",
   "language": "python",
   "name": "python3"
  },
  "language_info": {
   "codemirror_mode": {
    "name": "ipython",
    "version": 3
   },
   "file_extension": ".py",
   "mimetype": "text/x-python",
   "name": "python",
   "nbconvert_exporter": "python",
   "pygments_lexer": "ipython3",
   "version": "3.13.1"
  }
 },
 "nbformat": 4,
 "nbformat_minor": 2
}
