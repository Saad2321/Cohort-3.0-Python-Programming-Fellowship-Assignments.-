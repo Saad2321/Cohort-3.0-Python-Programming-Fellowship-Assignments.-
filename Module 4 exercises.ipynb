{
 "cells": [
  {
   "cell_type": "markdown",
   "metadata": {},
   "source": [
    "Exercises - Module 4\n",
    "Concatenate the string 'Thirty', 'Days', 'Of', 'Python' to a single string, 'Thirty Days Of Python'.\n",
    "Concatenate the string 'Coding', 'For' , 'All' to a single string, 'Coding For All'.\n",
    "Declare a variable named company and assign it to an initial value \"Coding For All\".\n",
    "Print the variable company using print().\n",
    "Print the length of the company string using len() method and print().\n",
    "Change all the characters to uppercase letters using upper() method.\n",
    "Change all the characters to lowercase letters using lower() method.\n",
    "Use capitalize(), title(), swapcase() methods to format the value of the string Coding For All.\n",
    "Cut(slice) out the first word of Coding For All string.\n",
    "Check if Coding For All string contains a word Coding using the method index, find or other methods.\n",
    "Replace the word coding in the string 'Coding For All' to Python.\n",
    "Change Python for Everyone to Python for All using the replace method or other methods.\n",
    "Split the string 'Coding For All' using space as the separator (split()) .\n",
    "\"Facebook, Google, Microsoft, Apple, IBM, Oracle, Amazon\" split the string at the comma.\n",
    "What is the character at index 0 in the string Coding For All.\n",
    "What is the last index of the string Coding For All.\n",
    "What character is at index 10 in \"Coding For All\" string.\n",
    "Create an acronym or an abbreviation for the name 'Python For Everyone'.\n",
    "Create an acronym or an abbreviation for the name 'Coding For All'.\n",
    "Use index to determine the position of the first occurrence of C in Coding For All.\n",
    "Use index to determine the position of the first occurrence of F in Coding For All.\n",
    "Use rfind to determine the position of the last occurrence of l in Coding For All People.\n",
    "Use index or find to find the position of the first occurrence of the word 'because' in the following sentence: 'You cannot end a sentence with because because because is a conjunction'\n",
    "Use rindex to find the position of the last occurrence of the word because in the following sentence: 'You cannot end a sentence with because because because is a conjunction'\n",
    "Slice out the phrase 'because because because' in the following sentence: 'You cannot end a sentence with because because because is a conjunction'\n",
    "Find the position of the first occurrence of the word 'because' in the following sentence: 'You cannot end a sentence with because because because is a conjunction'\n",
    "Slice out the phrase 'because because because' in the following sentence: 'You cannot end a sentence with because because because is a conjunction'\n",
    "Does ''Coding For All' start with a substring Coding?\n",
    "Does 'Coding For All' end with a substring coding?\n",
    "'   Coding For All      '  , remove the left and right trailing spaces in the given string.\n",
    "Which one of the following variables return True when we use the method isidentifier():\n",
    "30DaysOfPython\n",
    "thirty_days_of_python\n",
    "The following list contains the names of some of python libraries: ['Django', 'Flask', 'Bottle', 'Pyramid', 'Falcon']. Join the list with a hash with space string.\n",
    "Use the new line escape sequence to separate the following sentences.\n",
    "I am enjoying this challenge.\n",
    "I just wonder what is next.\n",
    "Use a tab escape sequence to write the following lines.\n",
    "Name      Age     Country   City\n",
    "Asabeneh  250     Finland   Helsinki\n",
    "Use the string formatting method to display the following:\n",
    "radius = 10\n",
    "area = 3.14 * radius ** 2\n",
    "The area of a circle with radius 10 is 314 meters square.\n",
    "Make the following using string formatting methods:\n",
    "8 + 6 = 14\n",
    "8 - 6 = 2\n",
    "8 * 6 = 48\n",
    "8 / 6 = 1.33\n",
    "8 % 6 = 2\n",
    "8 // 6 = 1\n",
    "8 ** 6 = 262144"
   ]
  },
  {
   "cell_type": "code",
   "execution_count": 10,
   "metadata": {},
   "outputs": [
    {
     "name": "stdout",
     "output_type": "stream",
     "text": [
      "Coding For All\n",
      "14\n",
      "CODING FOR ALL\n",
      "coding for all\n",
      "Coding for all\n",
      "Coding For All\n",
      "cODING fOR aLL\n",
      "For All\n",
      "True\n",
      "0\n",
      "0\n"
     ]
    }
   ],
   "source": [
    "# Concatenate the strings\n",
    "thirty_days_of_python = ' '.join(['Thirty', 'Days', 'Of', 'Python'])\n",
    "coding_for_all = ' '.join(['Coding', 'For', 'All'])\n",
    "\n",
    "# Declare a variable named company and assign it to an initial value\n",
    "company = \"Coding For All\"\n",
    "\n",
    "# Print the variable company\n",
    "print(company)\n",
    "\n",
    "# Print the length of the company string\n",
    "print(len(company))\n",
    "\n",
    "# Change all the characters to uppercase letters\n",
    "print(company.upper())\n",
    "\n",
    "# Change all the characters to lowercase letters\n",
    "print(company.lower())\n",
    "\n",
    "# Use capitalize(), title(), swapcase() methods to format the value of the string Coding For All\n",
    "print(company.capitalize())\n",
    "print(company.title())\n",
    "print(company.swapcase())\n",
    "\n",
    "# Cut(slice) out the first word of Coding For All string\n",
    "print(company[7:])\n",
    "\n",
    "# Check if Coding For All string contains a word Coding\n",
    "print('Coding' in company)\n",
    "print(company.find('Coding'))\n",
    "print(company.index('Coding'))"
   ]
  },
  {
   "cell_type": "code",
   "execution_count": 11,
   "metadata": {},
   "outputs": [
    {
     "name": "stdout",
     "output_type": "stream",
     "text": [
      "Python For All\n",
      "Python for All\n",
      "['Coding', 'For', 'All']\n",
      "['Facebook', 'Google', 'Microsoft', 'Apple', 'IBM', 'Oracle', 'Amazon']\n",
      "C\n",
      "13\n",
      " \n",
      "PFE\n",
      "CFA\n",
      "0\n"
     ]
    }
   ],
   "source": [
    "# Replace the word coding in the string 'Coding For All' to Python\n",
    "company_replaced = company.replace('Coding', 'Python')\n",
    "print(company_replaced)\n",
    "\n",
    "# Change Python for Everyone to Python for All using the replace method or other methods\n",
    "python_for_everyone = 'Python for Everyone'\n",
    "python_for_all = python_for_everyone.replace('Everyone', 'All')\n",
    "print(python_for_all)\n",
    "\n",
    "# Split the string 'Coding For All' using space as the separator\n",
    "split_company = company.split(' ')\n",
    "print(split_company)\n",
    "\n",
    "# \"Facebook, Google, Microsoft, Apple, IBM, Oracle, Amazon\" split the string at the comma\n",
    "tech_companies = \"Facebook, Google, Microsoft, Apple, IBM, Oracle, Amazon\"\n",
    "split_tech_companies = tech_companies.split(', ')\n",
    "print(split_tech_companies)\n",
    "\n",
    "# What is the character at index 0 in the string Coding For All\n",
    "char_at_index_0 = company[0]\n",
    "print(char_at_index_0)\n",
    "\n",
    "# What is the last index of the string Coding For All\n",
    "last_index = len(company) - 1\n",
    "print(last_index)\n",
    "\n",
    "# What character is at index 10 in \"Coding For All\" string\n",
    "char_at_index_10 = company[10]\n",
    "print(char_at_index_10)\n",
    "\n",
    "# Create an acronym or an abbreviation for the name 'Python For Everyone'\n",
    "python_for_everyone_acronym = ''.join([word[0] for word in 'Python For Everyone'.split()])\n",
    "print(python_for_everyone_acronym)\n",
    "\n",
    "# Create an acronym or an abbreviation for the name 'Coding For All'\n",
    "coding_for_all_acronym = ''.join([word[0] for word in 'Coding For All'.split()])\n",
    "print(coding_for_all_acronym)\n",
    "\n",
    "# Use index to determine the position of the first occurrence of C in Coding For All\n",
    "first_occurrence_C = company.index('C')\n",
    "print(first_occurrence_C)"
   ]
  },
  {
   "cell_type": "code",
   "execution_count": 12,
   "metadata": {},
   "outputs": [
    {
     "name": "stdout",
     "output_type": "stream",
     "text": [
      "7\n",
      "19\n",
      "31\n",
      "47\n",
      "because because because\n",
      "31\n",
      "because because because\n",
      "True\n",
      "False\n",
      "Coding For All\n"
     ]
    }
   ],
   "source": [
    "# Use index to determine the position of the first occurrence of F in Coding For All\n",
    "first_occurrence_F = company.index('F')\n",
    "print(first_occurrence_F)\n",
    "\n",
    "# Use rfind to determine the position of the last occurrence of l in Coding For All People\n",
    "last_occurrence_l = 'Coding For All People'.rfind('l')\n",
    "print(last_occurrence_l)\n",
    "\n",
    "# Use index or find to find the position of the first occurrence of the word 'because' in the sentence\n",
    "sentence = 'You cannot end a sentence with because because because is a conjunction'\n",
    "first_occurrence_because = sentence.find('because')\n",
    "print(first_occurrence_because)\n",
    "\n",
    "# Use rindex to find the position of the last occurrence of the word because in the sentence\n",
    "last_occurrence_because = sentence.rindex('because')\n",
    "print(last_occurrence_because)\n",
    "\n",
    "# Slice out the phrase 'because because because' in the sentence\n",
    "sliced_phrase = sentence[first_occurrence_because:last_occurrence_because + len('because')]\n",
    "print(sliced_phrase)\n",
    "\n",
    "# Find the position of the first occurrence of the word 'because' in the sentence\n",
    "first_occurrence_because = sentence.find('because')\n",
    "print(first_occurrence_because)\n",
    "\n",
    "# Slice out the phrase 'because because because' in the sentence\n",
    "sliced_phrase = sentence[first_occurrence_because:last_occurrence_because + len('because')]\n",
    "print(sliced_phrase)\n",
    "\n",
    "# Does 'Coding For All' start with a substring Coding?\n",
    "starts_with_coding = company.startswith('Coding')\n",
    "print(starts_with_coding)\n",
    "\n",
    "# Does 'Coding For All' end with a substring coding?\n",
    "ends_with_coding = company.endswith('coding')\n",
    "print(ends_with_coding)\n",
    "\n",
    "# Remove the left and right trailing spaces in the given string\n",
    "trimmed_string = '   Coding For All      '.strip()\n",
    "print(trimmed_string)"
   ]
  },
  {
   "cell_type": "code",
   "execution_count": 13,
   "metadata": {},
   "outputs": [
    {
     "name": "stdout",
     "output_type": "stream",
     "text": [
      "False\n",
      "False\n",
      "Django # Flask # Bottle # Pyramid # Falcon\n",
      "I am enjoying this challenge.\n",
      "I just wonder what is next.\n"
     ]
    }
   ],
   "source": [
    "# Check if the variables are valid identifiers\n",
    "print(\"30DaysOfPython\".isidentifier())  # False\n",
    "print(thirty_days_of_python.isidentifier())  # True\n",
    "\n",
    "# Join the list with a hash and space string\n",
    "python_libraries = ['Django', 'Flask', 'Bottle', 'Pyramid', 'Falcon']\n",
    "joined_libraries = ' # '.join(python_libraries)\n",
    "print(joined_libraries)\n",
    "\n",
    "# Use new line escape sequence to separate the sentences\n",
    "sentences = \"I am enjoying this challenge.\\nI just wonder what is next.\"\n",
    "print(sentences)"
   ]
  },
  {
   "cell_type": "code",
   "execution_count": 14,
   "metadata": {},
   "outputs": [
    {
     "name": "stdout",
     "output_type": "stream",
     "text": [
      "Name\tAge\tCountry\tCity\n",
      "Asabeneh\t250\tFinland\tHelsinki\n"
     ]
    }
   ],
   "source": [
    "# Use a tab escape sequence to format the lines\n",
    "formatted_string = \"Name\\tAge\\tCountry\\tCity\\nAsabeneh\\t250\\tFinland\\tHelsinki\"\n",
    "print(formatted_string)"
   ]
  },
  {
   "cell_type": "code",
   "execution_count": 15,
   "metadata": {},
   "outputs": [
    {
     "name": "stdout",
     "output_type": "stream",
     "text": [
      "The area of a circle with radius 10 is 314.0 meters square.\n"
     ]
    }
   ],
   "source": [
    "radius = 10\n",
    "area = 3.14 * radius ** 2\n",
    "formatted_output = \"The area of a circle with radius {} is {} meters square.\".format(radius, area)\n",
    "print(formatted_output)"
   ]
  },
  {
   "cell_type": "code",
   "execution_count": null,
   "metadata": {},
   "outputs": [],
   "source": [
    "a = 8\n",
    "b = 6\n",
    "\n",
    "addition = f\"{a} + {b} = {a + b}\"\n",
    "subtraction = f\"{a} - {b} = {a - b}\"\n",
    "multiplication = f\"{a} * {b} = {a * b}\"\n",
    "division = f\"{a} / {b} = {a / b:.2f}\"\n",
    "modulus = f\"{a} % {b} = {a % b}\"\n",
    "floor_division = f\"{a} // {b} = {a // b}\"\n",
    "exponentiation = f\"{a} ** {b} = {a ** b}\"\n",
    "\n",
    "print(addition)\n",
    "print(subtraction)\n",
    "print(multiplication)\n",
    "print(division)\n",
    "print(modulus)\n",
    "print(floor_division)\n",
    "print(exponentiation)"
   ]
  }
 ],
 "metadata": {
  "kernelspec": {
   "display_name": "Python 3",
   "language": "python",
   "name": "python3"
  },
  "language_info": {
   "codemirror_mode": {
    "name": "ipython",
    "version": 3
   },
   "file_extension": ".py",
   "mimetype": "text/x-python",
   "name": "python",
   "nbconvert_exporter": "python",
   "pygments_lexer": "ipython3",
   "version": "3.13.1"
  }
 },
 "nbformat": 4,
 "nbformat_minor": 2
}
