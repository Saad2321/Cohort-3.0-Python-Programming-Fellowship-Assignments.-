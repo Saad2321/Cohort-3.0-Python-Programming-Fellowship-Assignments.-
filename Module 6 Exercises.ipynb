{
 "cells": [
  {
   "cell_type": "markdown",
   "metadata": {},
   "source": [
    "Exercises: Module 6\n",
    "\n",
    "Create an empty dictionary called dog\n",
    "Add name, color, breed, legs, age to the dog dictionary\n",
    "Create a student dictionary and add first_name, last_name, gender, age, marital status, skills, country, city and address as keys for the dictionary\n",
    "Get the length of the student dictionary\n",
    "Get the value of skills and check the data type, it should be a list\n",
    "Modify the skills values by adding one or two skills\n",
    "Get the dictionary keys as a list\n",
    "Get the dictionary values as a list\n",
    "Change the dictionary to a list of tuples using items() method\n",
    "Delete one of the items in the dictionary\n",
    "Delete one of the dictionaries"
   ]
  },
  {
   "cell_type": "code",
   "execution_count": 1,
   "metadata": {},
   "outputs": [
    {
     "name": "stdout",
     "output_type": "stream",
     "text": [
      "Length of student dictionary: 9\n",
      "Skills: ['Python', 'Data Analysis']\n",
      "Data type of skills: <class 'list'>\n",
      "Updated skills: ['Python', 'Data Analysis', 'Machine Learning', 'Deep Learning']\n",
      "Dictionary keys: ['first_name', 'last_name', 'gender', 'age', 'marital_status', 'skills', 'country', 'city', 'address']\n",
      "Dictionary values: ['John', 'Doe', 'Male', 22, 'Single', ['Python', 'Data Analysis', 'Machine Learning', 'Deep Learning'], 'USA', 'New York', '123 Main St']\n",
      "Dictionary as list of tuples: [('first_name', 'John'), ('last_name', 'Doe'), ('gender', 'Male'), ('age', 22), ('marital_status', 'Single'), ('skills', ['Python', 'Data Analysis', 'Machine Learning', 'Deep Learning']), ('country', 'USA'), ('city', 'New York'), ('address', '123 Main St')]\n",
      "Dictionary after deleting address: {'first_name': 'John', 'last_name': 'Doe', 'gender': 'Male', 'age': 22, 'marital_status': 'Single', 'skills': ['Python', 'Data Analysis', 'Machine Learning', 'Deep Learning'], 'country': 'USA', 'city': 'New York'}\n",
      "Dog dictionary deleted\n"
     ]
    }
   ],
   "source": [
    "# Create an empty dictionary called dog\n",
    "dog = {}\n",
    "\n",
    "# Add name, color, breed, legs, age to the dog dictionary\n",
    "dog['name'] = 'Buddy'\n",
    "dog['color'] = 'Brown'\n",
    "dog['breed'] = 'Labrador'\n",
    "dog['legs'] = 4\n",
    "dog['age'] = 5\n",
    "\n",
    "# Create a student dictionary and add first_name, last_name, gender, age, marital status, skills, country, city and address as keys for the dictionary\n",
    "student = {\n",
    "    'first_name': 'John',\n",
    "    'last_name': 'Doe',\n",
    "    'gender': 'Male',\n",
    "    'age': 22,\n",
    "    'marital_status': 'Single',\n",
    "    'skills': ['Python', 'Data Analysis'],\n",
    "    'country': 'USA',\n",
    "    'city': 'New York',\n",
    "    'address': '123 Main St'\n",
    "}\n",
    "\n",
    "# Get the length of the student dictionary\n",
    "student_length = len(student)\n",
    "print(\"Length of student dictionary:\", student_length)\n",
    "\n",
    "# Get the value of skills and check the data type, it should be a list\n",
    "skills = student['skills']\n",
    "print(\"Skills:\", skills)\n",
    "print(\"Data type of skills:\", type(skills))\n",
    "\n",
    "# Modify the skills values by adding one or two skills\n",
    "student['skills'].extend(['Machine Learning', 'Deep Learning'])\n",
    "print(\"Updated skills:\", student['skills'])\n",
    "\n",
    "# Get the dictionary keys as a list\n",
    "student_keys = list(student.keys())\n",
    "print(\"Dictionary keys:\", student_keys)\n",
    "\n",
    "# Get the dictionary values as a list\n",
    "student_values = list(student.values())\n",
    "print(\"Dictionary values:\", student_values)\n",
    "\n",
    "# Change the dictionary to a list of tuples using items() method\n",
    "student_items = list(student.items())\n",
    "print(\"Dictionary as list of tuples:\", student_items)\n",
    "\n",
    "# Delete one of the items in the dictionary\n",
    "del student['address']\n",
    "print(\"Dictionary after deleting address:\", student)\n",
    "\n",
    "# Delete one of the dictionaries\n",
    "del dog\n",
    "print(\"Dog dictionary deleted\")"
   ]
  }
 ],
 "metadata": {
  "kernelspec": {
   "display_name": "Python 3",
   "language": "python",
   "name": "python3"
  },
  "language_info": {
   "codemirror_mode": {
    "name": "ipython",
    "version": 3
   },
   "file_extension": ".py",
   "mimetype": "text/x-python",
   "name": "python",
   "nbconvert_exporter": "python",
   "pygments_lexer": "ipython3",
   "version": "3.13.1"
  }
 },
 "nbformat": 4,
 "nbformat_minor": 2
}
