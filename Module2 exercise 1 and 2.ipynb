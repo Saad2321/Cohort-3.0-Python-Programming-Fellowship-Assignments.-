{
 "cells": [
  {
   "cell_type": "markdown",
   "metadata": {},
   "source": [
    "Level 1 exercises\n",
    "Inside 30DaysOfPython create a folder called day_2. Inside this folder create a file named variables.py\n",
    "Write a python comment saying 'Day 2: 30 Days of python programming'\n",
    "Declare a first name variable and assign a value to it\n",
    "Declare a last name variable and assign a value to it\n",
    "Declare a full name variable and assign a value to it\n",
    "Declare a country variable and assign a value to it\n",
    "Declare a city variable and assign a value to it\n",
    "Declare an age variable and assign a value to it\n",
    "Declare a year variable and assign a value to it\n",
    "Declare a variable is_married and assign a value to it\n",
    "Declare a variable is_true and assign a value to it\n",
    "Declare a variable is_light_on and assign a value to it\n",
    "Declare multiple variable on one line"
   ]
  },
  {
   "cell_type": "code",
   "execution_count": 9,
   "metadata": {},
   "outputs": [],
   "source": [
    "# Day 2: 30 Days of python programming"
   ]
  },
  {
   "cell_type": "code",
   "execution_count": 10,
   "metadata": {},
   "outputs": [
    {
     "name": "stdout",
     "output_type": "stream",
     "text": [
      "10\n",
      "20\n",
      "30\n"
     ]
    }
   ],
   "source": [
    "fisrt_name = 'Saad'\n",
    "last_name = 'yusuf'\n",
    "country = 'Nigeria'\n",
    "city = 'jigawa'\n",
    "age = 35\n",
    "year = 2021\n",
    "is_married = True\n",
    "skills = ['HTML', 'CSS', 'JS', 'React', 'Python']\n",
    "person_info = {\n",
    "    'firstname':'Saad',\n",
    "    'lastname':'yusuf',\n",
    "    'country':'Nigeria',\n",
    "    'city':'jigawa'\n",
    "}\n",
    "is_true= True\n",
    "is_false = False\n",
    "is_light='saad'\n",
    "x, y, z = 10, 20, 30  # Declaring and assigning values to three variables\n",
    "print(x)  # Output: 10\n",
    "print(y)  # Output: 20\n",
    "print(z)  # Output: 30"
   ]
  },
  {
   "cell_type": "markdown",
   "metadata": {},
   "source": [
    "Level 2 Exercise\n",
    "\n",
    "Check the data type of all your variables using type() built-in function\n",
    "Using the len() built-in function, find the length of your first name\n",
    "Compare the length of your first name and your last name\n",
    "Declare 5 as num_one and 4 as num_two\n",
    "Add num_one and num_two and assign the value to a variable total\n",
    "Subtract num_two from num_one and assign the value to a variable diff\n",
    "Multiply num_two and num_one and assign the value to a variable product\n",
    "Divide num_one by num_two and assign the value to a variable division\n",
    "Use modulus division to find num_two divided by num_one and assign the value to a variable remainder\n",
    "Calculate num_one to the power of num_two and assign the value to a variable exp\n",
    "Find floor division of num_one by num_two and assign the value to a variable floor_division\n",
    "The radius of a circle is 30 meters.\n",
    "Calculate the area of a circle and assign the value to a variable name of area_of_circle\n",
    "Calculate the circumference of a circle and assign the value to a variable name of circum_of_circle\n",
    "Take radius as user input and calculate the area.\n",
    "Use the built-in input function to get first name, last name, country and age from a user and store the value to their corresponding variable names\n",
    "Run help('keywords') in Python shell or in your file to check for the Python reserved words or keywords"
   ]
  },
  {
   "cell_type": "code",
   "execution_count": null,
   "metadata": {
    "vscode": {
     "languageId": "coffeescript"
    }
   },
   "outputs": [],
   "source": [
    "# Check the data type of all your variables using type() built-in function\n",
    "\n",
    "print(type(age))  # Output: <class 'int'>\n",
    "print(type(city))  # Output: <class 'str'>\n",
    "print(type(country))  # Output: <class 'str'>\n",
    "print(type(fisrt_name))  # Output: <class 'str'>\n",
    "print(type(is_false))  # Output: <class 'bool'>\n",
    "print(type(is_light))  # Output: <class 'str'>\n",
    "print(type(is_married))  # Output: <class 'bool'>\n",
    "print(type(is_true))  # Output: <class 'bool'>\n",
    "print(type(last_name))  # Output: <class 'str'>\n",
    "print(type(person_info))  # Output: <class 'dict'>\n",
    "print(type(skills))  # Output: <class 'list'>\n",
    "print(type(x))  # Output: <class 'int'>\n",
    "print(type(y))  # Output: <class 'int'>\n",
    "print(type(z))  # Output: <class 'int'>"
   ]
  },
  {
   "cell_type": "code",
   "execution_count": 11,
   "metadata": {},
   "outputs": [
    {
     "name": "stdout",
     "output_type": "stream",
     "text": [
      "4\n"
     ]
    }
   ],
   "source": [
    "length_of_first_name = len(fisrt_name)\n",
    "print(length_of_first_name)"
   ]
  },
  {
   "cell_type": "code",
   "execution_count": 12,
   "metadata": {},
   "outputs": [
    {
     "name": "stdout",
     "output_type": "stream",
     "text": [
      "5\n",
      "Last name is longer than first name.\n"
     ]
    }
   ],
   "source": [
    "# Compare the length of your first name and your last name\n",
    "length_of_last_name = len(last_name)\n",
    "print(length_of_last_name)\n",
    "\n",
    "if length_of_first_name > length_of_last_name:\n",
    "    print(\"First name is longer than last name.\")\n",
    "elif length_of_first_name < length_of_last_name:\n",
    "    print(\"Last name is longer than first name.\")\n",
    "else:\n",
    "    print(\"First name and last name are of the same length.\")"
   ]
  },
  {
   "cell_type": "code",
   "execution_count": 13,
   "metadata": {},
   "outputs": [],
   "source": [
    "# Declare 5 as num_one and 4 as num_two\n",
    "num_one = 5\n",
    "num_two = 4"
   ]
  },
  {
   "cell_type": "code",
   "execution_count": 14,
   "metadata": {
    "vscode": {
     "languageId": "sql"
    }
   },
   "outputs": [
    {
     "ename": "SyntaxError",
     "evalue": "invalid syntax (1903454078.py, line 2)",
     "output_type": "error",
     "traceback": [
      "\u001b[1;36m  Cell \u001b[1;32mIn[14], line 2\u001b[1;36m\u001b[0m\n\u001b[1;33m    Subtract num_two from num_one and assign the value to a variable diff\u001b[0m\n\u001b[1;37m             ^\u001b[0m\n\u001b[1;31mSyntaxError\u001b[0m\u001b[1;31m:\u001b[0m invalid syntax\n"
     ]
    }
   ],
   "source": [
    "#Add num_one and num_two and assign the value to a variable total\n",
    "Subtract num_two from num_one and assign the value to a variable diff\n",
    "Multiply num_two and num_one and assign the value to a variable product\n",
    "Divide num_one by num_two and assign the value to a variable division\n",
    "total = num_one + num_two\n",
    "diff = num_one - num_two\n",
    "product = num_one * num_two\n",
    "division = num_one / num_two\n",
    "\n",
    "print(\"Total:\", total)\n",
    "print(\"Difference:\", diff)\n",
    "print(\"Product:\", product)\n",
    "print(\"Division:\", division)"
   ]
  },
  {
   "cell_type": "code",
   "execution_count": 7,
   "metadata": {},
   "outputs": [
    {
     "name": "stdout",
     "output_type": "stream",
     "text": [
      "Remainder: 4\n",
      "Exponentiation: 625\n",
      "Floor Division: 1\n"
     ]
    }
   ],
   "source": [
    "# Use modulus division to find num_two divided by num_one and assign the value to a variable remainder\n",
    "remainder = num_two % num_one\n",
    "\n",
    "# Calculate num_one to the power of num_two and assign the value to a variable exp\n",
    "exp = num_one ** num_two\n",
    "\n",
    "# Find floor division of num_one by num_two and assign the value to a variable floor_division\n",
    "floor_division = num_one // num_two\n",
    "\n",
    "print(\"Remainder:\", remainder)\n",
    "print(\"Exponentiation:\", exp)\n",
    "print(\"Floor Division:\", floor_division)"
   ]
  },
  {
   "cell_type": "code",
   "execution_count": 8,
   "metadata": {},
   "outputs": [
    {
     "name": "stdout",
     "output_type": "stream",
     "text": [
      "Area of the circle: 2827.4333882308138\n",
      "Circumference of the circle: 188.49555921538757\n",
      "Area of the circle with user input radius: 2827.4333882308138\n",
      "User Info:\n",
      "First Name: saad\n",
      "Last Name: yusuf\n",
      "Country: nigeria\n",
      "Age: 35\n",
      "\n",
      "Here is a list of the Python keywords.  Enter any keyword to get more help.\n",
      "\n",
      "False               class               from                or\n",
      "None                continue            global              pass\n",
      "True                def                 if                  raise\n",
      "and                 del                 import              return\n",
      "as                  elif                in                  try\n",
      "assert              else                is                  while\n",
      "async               except              lambda              with\n",
      "await               finally             nonlocal            yield\n",
      "break               for                 not                 \n",
      "\n"
     ]
    }
   ],
   "source": [
    "# The radius of a circle is 30 meters.\n",
    "Calculate the area of a circle and assign the value to a variable name of area_of_circle\n",
    "Calculate the circumference of a circle and assign the value to a variable name of circum_of_circle\n",
    "Take radius as user input and calculate the area.\n",
    "Use the built-in input function to get first name, last name, country and age from a user and store the value to their corresponding variable names\n",
    "Run help('keywords') in Python shell or in your file to check for the Python reserved words or keywords\n",
    "\n",
    "# Given radius\n",
    "radius = 30\n",
    "\n",
    "# Calculate the area of the circle\n",
    "area_of_circle = math.pi * (radius ** 2)\n",
    "print(\"Area of the circle:\", area_of_circle)\n",
    "\n",
    "# Calculate the circumference of the circle\n",
    "circum_of_circle = 2 * math.pi * radius\n",
    "print(\"Circumference of the circle:\", circum_of_circle)\n",
    "\n",
    "# Take radius as user input and calculate the area\n",
    "user_radius = float(input(\"Enter the radius of the circle: \"))\n",
    "user_area_of_circle = math.pi * (user_radius ** 2)\n",
    "print(\"Area of the circle with user input radius:\", user_area_of_circle)\n",
    "\n",
    "# Get user input for first name, last name, country, and age\n",
    "user_first_name = input(\"saad: \")\n",
    "user_last_name = input(\"yusuf: \")\n",
    "user_country = input(\"nigeria: \")\n",
    "user_age = int(input(\"35: \"))\n",
    "\n",
    "print(\"User Info:\")\n",
    "print(\"First Name:\", user_first_name)\n",
    "print(\"Last Name:\", user_last_name)\n",
    "print(\"Country:\", user_country)\n",
    "print(\"Age:\", user_age)\n"
   ]
  }
 ],
 "metadata": {
  "kernelspec": {
   "display_name": "Python 3",
   "language": "python",
   "name": "python3"
  },
  "language_info": {
   "codemirror_mode": {
    "name": "ipython",
    "version": 3
   },
   "file_extension": ".py",
   "mimetype": "text/x-python",
   "name": "python",
   "nbconvert_exporter": "python",
   "pygments_lexer": "ipython3",
   "version": "3.13.1"
  }
 },
 "nbformat": 4,
 "nbformat_minor": 2
}
